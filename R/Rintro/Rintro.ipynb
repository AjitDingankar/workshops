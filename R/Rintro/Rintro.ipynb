{
 "cells": [
  {
   "cell_type": "markdown",
   "metadata": {},
   "source": [
    "title: Introduction to R\n",
    "\n",
    "Workshop Materials and Introduction\n",
    "===================================\n",
    "\n",
    "Materials and setup\n",
    "-------------------\n",
    "\n",
    "You should have R installed --if not:\n",
    "\n",
    "-   Open a web browser and go to <http://cran.r-project.org> and\n",
    "    download and install it\n",
    "-   Also helpful to install RStudio (download from <http://rstudio.com>)\n",
    "\n",
    "Download workshop materials:\n",
    "\n",
    "-   Download materials from\n",
    "    <http://tutorials.iq.harvard.edu/R/Rintro.zip>\n",
    "-   Extract the zip file containing the materials to your desktop\n",
    "\n",
    "What is R?\n",
    "----------\n",
    "\n",
    "R is a *programming language designed for statistical computing*.\n",
    "Notable characteristics include:\n",
    "\n",
    "-   Vast capabilities, wide range of statistical and graphical\n",
    "    techniques\n",
    "-   Very popular in academia, growing popularity in business:\n",
    "    <http://r4stats.com/articles/popularity/>\n",
    "-   Written primarily by statisticians\n",
    "-   FREE (no cost, open source)\n",
    "-   Excellent community support: mailing list, blogs, tutorials\n",
    "-   Easy to extend by writing new functions\n",
    "\n",
    "InspiRation\n",
    "-----------\n",
    "\n",
    "OK, it's free and popular, but what makes R worth learning? In a word,\n",
    "\"packages\". If you have a data manipulation, analysis or visualization\n",
    "task, chances are good that there is an R package for that. For example:\n",
    "\n",
    "-   Want to find out where we are?"
   ]
  },
  {
   "cell_type": "code",
   "execution_count": null,
   "metadata": {},
   "outputs": [],
   "source": [
    "library(ggmap)\n",
    "nwbuilding <- geocode(\"1737 Cambridge Street Cambridge, MA 02138\", source = \"google\") \n",
    "ggmap(get_map(\"Cambridge, MA\", zoom = 15)) +\n",
    "  geom_point(data=nwbuilding, size = 7, shape = 13, color = \"red\")"
   ]
  },
  {
   "cell_type": "markdown",
   "metadata": {},
   "source": [
    "-   Want to forecast the population of Australia?"
   ]
  },
  {
   "cell_type": "code",
   "execution_count": null,
   "metadata": {},
   "outputs": [],
   "source": [
    "library(forecast)\n",
    "fit <- auto.arima(austres)\n",
    "## Projected numbers (in thousands) of Australian residents\n",
    "plot(forecast(fit))"
   ]
  },
  {
   "cell_type": "markdown",
   "metadata": {},
   "source": [
    "-   Want to interactively explore the shape of the Churyumov–Gerasimenko\n",
    "    comet?"
   ]
  },
  {
   "cell_type": "code",
   "execution_count": null,
   "metadata": {},
   "outputs": [],
   "source": [
    "library(plotly)\n",
    "comet <- rgl::readOBJ(url(\"http://sci.esa.int/science-e/www/object/doc.cfm?fobjectid=54726\"))\n",
    "\n",
    "comet.plot <- plot_ly(x = comet$vb[1,],\n",
    "                      y = comet$vb[2,],\n",
    "                      z = comet$vb[3,],\n",
    "                      i = comet$it[1,]-1,\n",
    "                      j= comet$it[2,]-1,\n",
    "                      k = comet$it[3,]-1,\n",
    "                      type = \"mesh3d\")\n",
    "\n",
    "setwd(\"images\")\n",
    "htmlwidgets::saveWidget(comet.plot, file = \"comet.html\")\n",
    "setwd(\"..\")\n",
    "\n",
    "comet.plot"
   ]
  },
  {
   "cell_type": "markdown",
   "metadata": {},
   "source": [
    "Whatever you're trying to do, you're probably not the first to try doing\n",
    "it R. Chances are good that someone has already written a package for\n",
    "that.\n",
    "\n",
    "Coming to R\n",
    "-----------\n",
    "\n",
    "Coming from...\n",
    "\n",
    "Stata\n",
    ":   <http://www.princeton.edu/~otorres/RStata.pdf>\n",
    "\n",
    "SAS/SPSS\n",
    ":   <http://www.et.bs.ehu.es/~etptupaf/pub/R/RforSAS&SPSSusers.pdf>\n",
    "\n",
    "matlab\n",
    ":   <http://www.math.umaine.edu/~hiebeler/comp/matlabR.pdf>\n",
    "\n",
    "Python\n",
    ":   <http://mathesaurus.sourceforge.net/matlab-python-xref.pdf>\n",
    "\n",
    "Graphical User Interfaces (GUIs)\n",
    "================================\n",
    "\n",
    "R GUI alternatives\n",
    "------------------\n",
    "\n",
    "The old-school way is to run R directly in a terminal\n",
    "\n",
    "![](images/Rconsole.png)\n",
    "\n",
    "But hardly anybody does it that way anymore! The Windows version of R\n",
    "comes with a GUI that looks like this:\n",
    "\n",
    "![](images/Rgui.png)\n",
    "\n",
    "The default windows GUI is not very good\n",
    "\n",
    "-   No parentheses matching or syntax highlighting\n",
    "-   No work-space browser\n",
    "\n",
    "RStudio (an alternative GUI for R) is shown below.\n",
    "\n",
    "![](images/Rstudio.png)\n",
    "\n",
    "Rstudio has many useful features, including parentheses matching and\n",
    "auto-completion. Rstudio is not the only advanced R interface; other\n",
    "alteratives include Emacs with ESS (shown below).\n",
    "\n",
    "![](images/emacs.png)\n",
    "\n",
    "Emacs + ESS is a very powerful combination, but can be difficult to set\n",
    "up.\n",
    "\n",
    "![](images/Jupyter.png)\n",
    "\n",
    "Jupyter is a notebook interface that runs in your web browser. A lot of\n",
    "people like it. You can access these workshop notes as a Jupyter\n",
    "notebook at\n",
    "<http://tutorials-live.iq.harvard.edu:8000/notebooks/workshops/R/Rintro/Rintro.ipynb>\n",
    "\n",
    "Launch RStudio<span class=\"tag\" data-tag-name=\"labsetup\"></span>\n",
    "----------------------------------------------------------------\n",
    "\n",
    "-   Open the RStudio program\n",
    "-   Open up today's R script\n",
    "    -   In RStudio, Go to **File =&gt; Open Script**\n",
    "    -   Locate and open the `Rintro.R` script in the Rintro folder on\n",
    "        your desktop\n",
    "-   Go to **Tools =&gt; Set working directory =&gt; To source file\n",
    "    location** (more on the working directory later)\n",
    "-   I encourage you to add your own notes to this file! Every line that\n",
    "    starts with `#` is a comment that will be ignored by R. My comments\n",
    "    all start with `##`; you can add your own, possibly using `#` or\n",
    "    `###` to distinguish your comments from mine.\n",
    "\n",
    "Exercise 0\n",
    "----------\n",
    "\n",
    "The purpose of this exercise is mostly to give you an opportunity to\n",
    "explore the interface provided by RStudio (or whichever GUI you've\n",
    "decided to use). You may not know how to do these things; that's fine!\n",
    "This is an opportunity to learn. If you don't know how to do something\n",
    "you can can use internet search engines, search on\n",
    "[StackOverflow](http:stackoverflow.com), or ask the person next to you.\n",
    "\n",
    "Also keep in mind that we are living in a golden age of tab completion.\n",
    "If you don't know the name of an R function, try guessing the first two\n",
    "or three letters and pressing TAB. If you guessed correctly the function\n",
    "you are looking for should appear in a pop up!\n",
    "\n",
    "1.  Try to get R to add 2 plus 2.\n",
    "2.  Try to calculate the square root of 10.\n",
    "3.  There is an R package named `car` (Companion to Applied Regression).\n",
    "    Try to install this package.\n",
    "4.  R includes extensive documentation, including a file named \"An\n",
    "    introduction to R\". Try to find this help file.\n",
    "5.  Open a web browser, go to <http://cran.r-project.org/web/views/> and\n",
    "    skim the topic closest to your field/interests.\n",
    "\n",
    "Exercise 0 solution<span class=\"tag\" data-tag-name=\"prototype\"></span>\n",
    "----------------------------------------------------------------------\n",
    "\n",
    "1.  [@1] \\] Add 2 plus 2."
   ]
  },
  {
   "cell_type": "code",
   "execution_count": null,
   "metadata": {},
   "outputs": [],
   "source": [
    "2 + 2\n",
    "sum(2, 2)"
   ]
  },
  {
   "cell_type": "markdown",
   "metadata": {},
   "source": [
    "1.  [@2] Calculate the square root of 10:"
   ]
  },
  {
   "cell_type": "code",
   "execution_count": null,
   "metadata": {},
   "outputs": [],
   "source": [
    "sqrt(10)\n",
    "10^(1/2)"
   ]
  },
  {
   "cell_type": "markdown",
   "metadata": {},
   "source": [
    "1.  [@3] Install the \"car\" package:\n",
    "\n",
    "=In Rstudio, go to the \"Packages\" tab and click the \"Istall\" button.\n",
    "Search in the pop-up window and click \"Install\".=\n",
    "\n",
    "1.  [@4] Find \"An Introduction to R\".\n",
    "\n",
    "=Go to the main help page by running 'help.start() or using the GUI\n",
    "menu, find and click on the link to \"An Introduction to R\".=\n",
    "\n",
    "1.  [@4] Go to <http://cran.r-project.org/web/views/> and skim the topic\n",
    "    closest to your field/interests.\n",
    "\n",
    "=I like the machine learning topic=\n",
    "\n",
    "Data and Functions\n",
    "==================\n",
    "\n",
    "Assignment\n",
    "----------\n",
    "\n",
    "Values can be assigned names and used in subsequent operations\n",
    "\n",
    "-   The `<-` operator (less than followed by a dash) is used to save\n",
    "    values\n",
    "-   The name on the left gets the value on the right."
   ]
  },
  {
   "cell_type": "code",
   "execution_count": null,
   "metadata": {
    "attributes": {
     "classes": [],
     "id": "firstRExample"
    }
   },
   "outputs": [],
   "source": [
    "x <- 10 # Assign the value 10 to a variable named x\n",
    "x + 1 # Add 1 to x\n",
    "x # note that x is unchanged\n",
    "y <- x + 1 # Assign y the value x + 1\n",
    "y\n",
    "x <- x + 100 # change the value of x\n",
    "y ## note that y is unchanged."
   ]
  },
  {
   "cell_type": "markdown",
   "metadata": {},
   "source": [
    "Saved variables can be listed, overwritten and deleted"
   ]
  },
  {
   "cell_type": "code",
   "execution_count": null,
   "metadata": {
    "attributes": {
     "classes": [],
     "id": "listOverwriteDelete"
    }
   },
   "outputs": [],
   "source": [
    "ls() # List variables in workspace\n",
    "x # Print the value of x\n",
    "x <- 100 # Overwrite x. Note that no warning is given!\n",
    "x\n",
    "rm(x) # Delete x\n",
    "ls()"
   ]
  },
  {
   "cell_type": "markdown",
   "metadata": {},
   "source": [
    "Data types and conversion\n",
    "-------------------------\n",
    "\n",
    "The `x` and `y` data objects we created are numeric *vectors* of length\n",
    "one. Vectors are the simplest data structure in R, and are the building\n",
    "blocks used to make more complex data structures. Here are some more\n",
    "vector examples."
   ]
  },
  {
   "cell_type": "code",
   "execution_count": null,
   "metadata": {},
   "outputs": [],
   "source": [
    "x <- c(10, 11, 12)\n",
    "X <- c(\"10\", \"11\", \"12\")\n",
    "y <- c(\"h\", \"e\", \"l\", \"l\", \"o\")\n",
    "Y <- \"hello\"\n",
    "z <- c(1, 0, 1, 1)\n",
    "Z <- c(TRUE, FALSE, TRUE, TRUE)"
   ]
  },
  {
   "cell_type": "markdown",
   "metadata": {},
   "source": [
    "Notice that the `c` function combines its arguments into a vector.\n",
    "\n",
    "All R objects have a *mode* and *length*. Since it is impossible for an\n",
    "object not to have these attributes they are called *intrinsic\n",
    "attributes*."
   ]
  },
  {
   "cell_type": "code",
   "execution_count": null,
   "metadata": {},
   "outputs": [],
   "source": [
    "print(x)\n",
    "mode(x)\n",
    "length(x)\n",
    "\n",
    "print(X)\n",
    "mode(X)\n",
    "length(X)\n",
    "\n",
    "length(y)\n",
    "length(Y)\n",
    "\n",
    "mode(z)\n",
    "mode(Z)"
   ]
  },
  {
   "cell_type": "markdown",
   "metadata": {},
   "source": [
    "Data structures in R can be converted from one type to another using one\n",
    "of the many functions beginning with `as.`. For example:"
   ]
  },
  {
   "cell_type": "code",
   "execution_count": null,
   "metadata": {},
   "outputs": [],
   "source": [
    "mode(x)\n",
    "mode(as.character(x))\n",
    "mode(X)\n",
    "mode(as.numeric(X))"
   ]
  },
  {
   "cell_type": "markdown",
   "metadata": {},
   "source": [
    "Functions\n",
    "---------\n",
    "\n",
    "Using R is mostly about applying **functions** to **variables**.\n",
    "Functions\n",
    "\n",
    "-   take **variable(s)** as input **argument(s)**\n",
    "-   perform operations\n",
    "-   **return** values which can be **assigned**\n",
    "-   optionally perform side-effects such as writing a file to disk or\n",
    "    opening a graphics window\n",
    "\n",
    "The general form for calling R functions is"
   ]
  },
  {
   "cell_type": "code",
   "execution_count": null,
   "metadata": {},
   "outputs": [],
   "source": [
    "## FunctionName(arg.1, arg.2, ..., arg.n)"
   ]
  },
  {
   "cell_type": "markdown",
   "metadata": {},
   "source": [
    "Arguments can be matched by position or name\n",
    "\n",
    "Examples:"
   ]
  },
  {
   "cell_type": "code",
   "execution_count": null,
   "metadata": {
    "attributes": {
     "classes": [],
     "id": "functionExamples"
    }
   },
   "outputs": [],
   "source": [
    "  #?sqrt\n",
    "  a <- sqrt(z) # Call the sqrt function with argument x=z\n",
    "\n",
    "## look at the arguments to the round function\n",
    "  args(round) # use ?round if you need more information\n",
    "\n",
    "  round(a, digits = 2) # Call round() with arguments x=x and digits=2\n",
    "\n",
    "  ## since matching by name takes precedence these are all equivalent:\n",
    "  round(a, 2)\n",
    "  round(x = a, 2)\n",
    "  round(digits = 2, x = a)\n",
    "\n",
    "  ## the only way we can go wrong is by omiting the names and mixing up the order\n",
    "  round(2, x)\n",
    "\n",
    "  # Functions can be nested so an alternative is\n",
    "  round(sqrt(z), digits = 2) # Take sqrt of a and round"
   ]
  },
  {
   "cell_type": "markdown",
   "metadata": {},
   "source": [
    "Asking R for help\n",
    "=================\n",
    "\n",
    "R has extensive built-in documentation that can be accessed through R\n",
    "commands or through the GUI."
   ]
  },
  {
   "cell_type": "code",
   "execution_count": null,
   "metadata": {},
   "outputs": [],
   "source": [
    "## Start html help, search/browse using web browser\n",
    "help.start() # or use the help menu from you GUI\n",
    "## Look up the documentation for a function\n",
    "help(plot) ## or use the shortcut: ?plot\n",
    "## Look up documentation for a package\n",
    "help(package=\"stats\")\n",
    "## Search documentation from R (not always the best way... google often works better)\n",
    "help.search(\"classification\")"
   ]
  },
  {
   "cell_type": "markdown",
   "metadata": {},
   "source": [
    "R packages\n",
    "==========\n",
    "\n",
    "There are thousands of R packages that extend R's capabilities. Some\n",
    "packages are distributed with R, and some of these are attached to the\n",
    "search path by default. Many more are available in package repositories."
   ]
  },
  {
   "cell_type": "code",
   "execution_count": null,
   "metadata": {},
   "outputs": [],
   "source": [
    "##To see what packages are loaded: \n",
    "search()\n",
    "\n",
    "## To view available packages: \n",
    "library()\n",
    "\n",
    "## To load a package: \n",
    "library(\"MASS\")\n",
    "\n",
    "## Install new package: \n",
    "install.packages(\"stringdist\")"
   ]
  },
  {
   "cell_type": "markdown",
   "metadata": {},
   "source": [
    "In this workshop we will use the *tidyverse* package. *tidyverse* is a\n",
    "meta package that loads the *dplyr* package for easier data manipulation\n",
    "the *readr* package for easier data import/export, and several other\n",
    "useful packages.\n",
    "\n",
    "Exercise 1\n",
    "----------\n",
    "\n",
    "The purpose of this exercise is to practice using the package management\n",
    "and help facilities.\n",
    "\n",
    "1.  Use the `search` function to inspect the current search path. Assign\n",
    "    the result to the name `orig.search.path`.\n",
    "2.  What are the `mode` and `length` of `orig.search.path`?\n",
    "3.  Install the *tidyverse* package. Compare the output of `search()` to\n",
    "    the value you've saved in `orig.search.path`. Has it changed?\n",
    "4.  Use the `library` function to attach the *tidyverse* package.\n",
    "    Compare the output of `search()` to the value you've saved in\n",
    "    `orig.search.path`. Has it changed?\n",
    "5.  Look up the help page for the *readr* package. Which function would\n",
    "    you use to read a tab delimited file?\n",
    "\n",
    "Exercise 1 solution<span class=\"tag\" data-tag-name=\"prototype\"></span>\n",
    "----------------------------------------------------------------------"
   ]
  },
  {
   "cell_type": "code",
   "execution_count": null,
   "metadata": {},
   "outputs": [],
   "source": [
    "## inspect search path\n",
    "search()\n",
    "orig.search.path <- search()\n",
    "\n",
    "## install the tidyverse package and check search path\n",
    "# install.pacakges(\"tidyverse\")\n",
    "search() ## unchanged\n",
    "\n",
    "## attach the tidyverse pacakge\n",
    "library(\"tidyverse\")\n",
    "print(orig.search.path)\n",
    "search() ## different now that we have attached the package using the library function\n",
    "\n",
    "## look up the readr package documentation\n",
    "help(package = \"readr\")\n",
    "## I would use read_tsv to read a tab delimited file."
   ]
  },
  {
   "cell_type": "markdown",
   "metadata": {},
   "source": [
    "Getting data into R\n",
    "===================\n",
    "\n",
    "The baby names data set\n",
    "-----------------------\n",
    "\n",
    "The examples in this workshop use the baby names data provided by the\n",
    "governments of the United States and the United Kingdom. A cleaned and\n",
    "merged version of these data is in `dataSets/babyNames.csv`.\n",
    "\n",
    "The \"working directory\" and listing files\n",
    "-----------------------------------------\n",
    "\n",
    "R knows the directory it was started in, and refers to this as the\n",
    "\"working directory\". Since our workshop examples are in the Rintro\n",
    "folder in your Downloads folder, we should all take a moment to set that\n",
    "as our working directory."
   ]
  },
  {
   "cell_type": "code",
   "execution_count": null,
   "metadata": {
    "attributes": {
     "classes": [],
     "id": "SetDesktopWorkingDirectory"
    }
   },
   "outputs": [],
   "source": [
    "getwd() # what is my current working directory?\n",
    "# setwd(\"~/Desktop/Rintro\") # change directory"
   ]
  },
  {
   "cell_type": "markdown",
   "metadata": {},
   "source": [
    "Note that \"`~`\" means \"my home directory\" but that this can mean\n",
    "different things on different operating systems. You can also use the\n",
    "Files tab in Rstudio to navigate to a directory, then click \"More -&gt;\n",
    "Set as working directory\".\n",
    "\n",
    "We can a set the working directory using paths relative to the current\n",
    "working directory. Once we are in the \"Rintro\" folder we can navigate to\n",
    "the \"dataSets\" folder like this:"
   ]
  },
  {
   "cell_type": "code",
   "execution_count": null,
   "metadata": {
    "attributes": {
     "classes": [],
     "id": "getWD"
    }
   },
   "outputs": [],
   "source": [
    "getwd() # get the current working directory\n",
    "setwd(\"dataSets\") # set wd to the dataSets folder\n",
    "getwd()\n",
    "setwd(\"..\") # set wd to enclosing folder (\"up\")"
   ]
  },
  {
   "cell_type": "markdown",
   "metadata": {},
   "source": [
    "It can be convenient to list files in a directory without leaving R"
   ]
  },
  {
   "cell_type": "code",
   "execution_count": null,
   "metadata": {
    "attributes": {
     "classes": [],
     "id": "listFilesExample"
    }
   },
   "outputs": [],
   "source": [
    "list.files(\"dataSets\") # list files in the dataSets folder"
   ]
  },
  {
   "cell_type": "markdown",
   "metadata": {},
   "source": [
    "Readers for common file types\n",
    "-----------------------------\n",
    "\n",
    "In order to read data from a file, you have to know what kind of file it\n",
    "is. The table below lists the functions that can import data from common\n",
    "file formats.\n",
    "\n",
    "  data type                 function        package\n",
    "  ------------------------- --------------- -----------------------------------------------------\n",
    "  comma separated (.csv)    read~csv~()     readr (tidyverse)\n",
    "  other delimited formats   read~delim~()   readr (tidyverse)\n",
    "  R (.Rds)                  read~rds~()     readr (tidyverse)\n",
    "  Stata (.dta)              read~stata~()   haven (tidyverse, needs to be attached separately)\n",
    "  SPSS (.sav)               read~spss~()    haven (tidyverse, needs to be attached separately)\n",
    "  SAS (.sas7bdat)           read~sas~()     haven (tidyverse, needs to be attached separately)\n",
    "  Excel (.xls, .xlsx)       read~excel~     readxl (tidyverse, needs to be attached separately)\n",
    "\n",
    "Exercise 2\n",
    "----------\n",
    "\n",
    "The purpose of this exercise is to practice reading data into R. The\n",
    "data in \"`dataSets/babyNames.csv`\" is moderately tricky to read, making\n",
    "it a good data set to practice on.\n",
    "\n",
    "1.  Open the help page for the `read_csv` function. How can you limit\n",
    "    the number of rows to be read in?\n",
    "2.  Read just the first 10 rows of \"`dataSets/babyNames.csv`\". Notice\n",
    "    that the \"Sex\" column has been read as a logical (TRUE/FALSE).\n",
    "3.  Read the `read_csv` help page to figure out how to make it read the\n",
    "    \"Sex\" column as a character. Make adjustments to your code until you\n",
    "    have read in the first 10 rows with the correct column types. \"Year\"\n",
    "    and \"Name.length\" should be integer (int), \"Count\" and \"Percent\"\n",
    "    should be double (dbl) and everything else should be\n",
    "    character (chr).\n",
    "4.  Once you have successfully read in the first 10 rows, read the whole\n",
    "    file, assigning the result to the name `baby.names`.\n",
    "\n",
    "Exercise 2 solution<span class=\"tag\" data-tag-name=\"prototype\"></span>\n",
    "----------------------------------------------------------------------"
   ]
  },
  {
   "cell_type": "code",
   "execution_count": null,
   "metadata": {},
   "outputs": [],
   "source": [
    "## read ?read_csv\n",
    "## limit rows with n_max argument\n",
    "read_csv(\"dataSets/babyNames.csv\", n_max = 10)\n",
    "\n",
    "## specify column types in the col_types argument\n",
    "read_csv(\"dataSets/babyNames.csv\", n_max = 10, col_types = \"??c????????????\")\n",
    "\n",
    "## read all the data\n",
    "baby.names <- read_csv(\"dataSets/babyNames.csv\", col_types = \"??c????????????\")"
   ]
  },
  {
   "cell_type": "markdown",
   "metadata": {},
   "source": [
    "Checking imported data\n",
    "----------------------\n",
    "\n",
    "It is always a good idea to examine the imported data set--usually we\n",
    "want the results to be a `data.frame`"
   ]
  },
  {
   "cell_type": "code",
   "execution_count": null,
   "metadata": {
    "attributes": {
     "classes": [],
     "id": "ExamineStataData"
    }
   },
   "outputs": [],
   "source": [
    "## we know that this object will have mode and length, because all R objects do.\n",
    "mode(baby.names)\n",
    "length(baby.names) # number of columns\n",
    "\n",
    "## additional information about this data object\n",
    "class(baby.names) # check to see that test is a data.frame\n",
    "dim(baby.names) # how many rows and columns?\n",
    "names(baby.names) # or colnames(baby.names)\n",
    "str(baby.names) # more details\n",
    "glimpse(baby.names) # details, more compactly"
   ]
  },
  {
   "cell_type": "markdown",
   "metadata": {},
   "source": [
    "Data Manipulation\n",
    "=================\n",
    "\n",
    "data.frame objects\n",
    "------------------\n",
    "\n",
    "Usually data read into R will be stored as a **data.frame**\n",
    "\n",
    "-   A data.frame is a list of vectors of equal length\n",
    "    -   Each vector in the list forms a column\n",
    "    -   Each column can be a differnt type of vector\n",
    "    -   Typically columns are variables and the rows are observations\n",
    "\n",
    "A data.frame has two dimensions corresponding the number of rows and the\n",
    "number of columns (in that order)\n",
    "\n",
    "Slice and Filter data.frames rows\n",
    "---------------------------------\n",
    "\n",
    "You can extract subsets of data.frames using `slice` to select rows by\n",
    "number and `filter` to select rows that match some condition. It works\n",
    "like this:"
   ]
  },
  {
   "cell_type": "code",
   "execution_count": null,
   "metadata": {
    "attributes": {
     "classes": [],
     "id": "indexingDataFrame"
    }
   },
   "outputs": [],
   "source": [
    "## make up some example data\n",
    "(example.df <- data.frame(id  = rep(letters[1:4], each = 4),\n",
    "                          t   = rep(1:4, times = 4),\n",
    "                          var1 = runif(16),\n",
    "                          var2 = sample(letters[1:3], 16, replace = TRUE)))\n",
    "\n",
    "## rows 2 and 4\n",
    "slice(example.df, c(2, 4))\n",
    "\n",
    "## rows where id == \"a\"\n",
    "filter(example.df, id == \"a\")\n",
    "\n",
    "## rows where id is either \"a\" or \"b\"\n",
    "filter(example.df, id %in% c(\"a\", \"b\"))"
   ]
  },
  {
   "cell_type": "markdown",
   "metadata": {},
   "source": [
    "Select data.frame columns\n",
    "-------------------------\n",
    "\n",
    "`slice` and `filter` are used to extract rows. `select` is used to\n",
    "extract columns"
   ]
  },
  {
   "cell_type": "code",
   "execution_count": null,
   "metadata": {},
   "outputs": [],
   "source": [
    "select(example.df, id, var1)\n",
    "select(example.df, id, t, var1)"
   ]
  },
  {
   "cell_type": "markdown",
   "metadata": {},
   "source": [
    "You can also conveniently select a single column using `$`, like this:"
   ]
  },
  {
   "cell_type": "code",
   "execution_count": null,
   "metadata": {},
   "outputs": [],
   "source": [
    "example.df$t"
   ]
  },
  {
   "cell_type": "markdown",
   "metadata": {},
   "source": [
    "Data manipulation commands can be combined:"
   ]
  },
  {
   "cell_type": "code",
   "execution_count": null,
   "metadata": {},
   "outputs": [],
   "source": [
    "filter(select(example.df,\n",
    "              id,\n",
    "              var1),\n",
    "       id == \"a\")"
   ]
  },
  {
   "cell_type": "markdown",
   "metadata": {},
   "source": [
    "In the previous example we used == to filter rows where id was \"a\".\n",
    "Other relational and logical operators are listed below.\n",
    "\n",
    "  Operator   Meaning\n",
    "  ---------- --------------------------\n",
    "  ==         equal to\n",
    "  !=         not equal to\n",
    "  &gt;       greater than\n",
    "  &gt;=      greater than or equal to\n",
    "  &lt;       less than\n",
    "  &lt;=      less than or equal to\n",
    "  %in%       contained in\n",
    "  &          and\n",
    "  |          or\n",
    "\n",
    "Adding, removing, and modifying data.frame columns\n",
    "--------------------------------------------------\n",
    "\n",
    "You can modify data.frames using the `mutate()` function. It works like\n",
    "this:"
   ]
  },
  {
   "cell_type": "code",
   "execution_count": null,
   "metadata": {
    "attributes": {
     "classes": [],
     "id": "replaceDataFrame"
    }
   },
   "outputs": [],
   "source": [
    "example.df\n",
    "\n",
    "## modify example.df and assign the modified data.frame the name example.df\n",
    "example.df <- mutate(example.df,\n",
    "       var2 = var1/t, # replace the values in var2\n",
    "       var3 = 1:length(t), # create a new column named var3\n",
    "       var4 = factor(letters[t]),\n",
    "       t = NULL # delete the column named t\n",
    "       )\n",
    "\n",
    "## examine our changes\n",
    "example.df"
   ]
  },
  {
   "cell_type": "markdown",
   "metadata": {},
   "source": [
    "Exporting Data\n",
    "--------------\n",
    "\n",
    "Now that we have made some changes to our data set, we might want to\n",
    "save those changes to a file."
   ]
  },
  {
   "cell_type": "code",
   "execution_count": null,
   "metadata": {
    "attributes": {
     "classes": [],
     "id": "dataExportExamples"
    }
   },
   "outputs": [],
   "source": [
    "# write data to a .csv file\n",
    "write_csv(example.df, path = \"example.csv\")\n",
    "\n",
    "# write data to an R file\n",
    "write_rds(example.df, path = \"example.rds\")\n",
    "\n",
    "# write data to a Stata file\n",
    "library(haven)\n",
    "write_dta(example.df, path = \"example.dta\")"
   ]
  },
  {
   "cell_type": "markdown",
   "metadata": {},
   "source": [
    "Saving and loading R workspaces\n",
    "-------------------------------\n",
    "\n",
    "In addition to importing individual datasets, R can save and load entire\n",
    "workspaces"
   ]
  },
  {
   "cell_type": "code",
   "execution_count": null,
   "metadata": {
    "attributes": {
     "classes": [],
     "id": "saveDelete"
    }
   },
   "outputs": [],
   "source": [
    "ls() # list objects in our workspace\n",
    "save.image(file=\"myWorkspace.RData\") # save workspace \n",
    "rm(list=ls()) # remove all objects from our workspace \n",
    "ls() # list stored objects to make sure they are deleted"
   ]
  },
  {
   "cell_type": "markdown",
   "metadata": {},
   "source": [
    "Load the \"myWorkspace.RData\" file and check that it is restored"
   ]
  },
  {
   "cell_type": "code",
   "execution_count": null,
   "metadata": {
    "attributes": {
     "classes": [],
     "id": "loadList"
    }
   },
   "outputs": [],
   "source": [
    "load(\"myWorkspace.RData\") # load myWorkspace.RData\n",
    "ls() # list objects"
   ]
  },
  {
   "cell_type": "markdown",
   "metadata": {},
   "source": [
    "Exercise 3: Data manipulation\n",
    "-----------------------------\n",
    "\n",
    "Read in the \"babyNames.csv\" file if you have not already done so,\n",
    "assigning the result to `baby.names`.\n",
    "\n",
    "1.  Filter `baby.names` to show only names given to at least 3 percent\n",
    "    of boys.\n",
    "2.  Create a column named \"Proportion\" equal to Percent divided by 100.\n",
    "3.  Filter `baby.names` to include only names given to at least 3\n",
    "    percent of Girls. Save this to a Stata data set\n",
    "    named \"popularGirlNames.dta\")\n",
    "\n",
    "Exercise 3 solution<span class=\"tag\" data-tag-name=\"prototype\"></span>\n",
    "----------------------------------------------------------------------"
   ]
  },
  {
   "cell_type": "code",
   "execution_count": null,
   "metadata": {},
   "outputs": [],
   "source": [
    "filter(baby.names, Sex == \"M\" & Percent >= 3)\n",
    "\n",
    "baby.names <- mutate(baby.names, Proportion = Percent/100)\n",
    "\n",
    "popular.girl.names <- filter(baby.names, Sex == \"F\" & Percent >= 3)\n",
    "\n",
    "write_csv(popular.girl.names, path = \"popularGirlNames.dta\")"
   ]
  },
  {
   "cell_type": "markdown",
   "metadata": {},
   "source": [
    "Basic Statistics and Graphs\n",
    "===========================\n",
    "\n",
    "Basic statistics\n",
    "----------------\n",
    "\n",
    "Descriptive statistics of single variables are straightforward:"
   ]
  },
  {
   "cell_type": "code",
   "execution_count": null,
   "metadata": {
    "attributes": {
     "classes": [],
     "id": "descriptiveStats1"
    }
   },
   "outputs": [],
   "source": [
    "\n",
    "sum(example.df$var1) # calculate sum of var 1\n",
    "mean(example.df$var1)\n",
    "median(example.df$var1)\n",
    "sd(example.df$var1) # calculate standard deviation of var1\n",
    "var(example.df$var1)\n",
    "\n",
    "## summaries of individual columns\n",
    "summary(example.df$var1)\n",
    "summary(example.df$var2)\n",
    "\n",
    "## summary of whole data.frame\n",
    "summary(example.df)"
   ]
  },
  {
   "cell_type": "markdown",
   "metadata": {},
   "source": [
    "Some of these functions (e.g., summary) will also work with data.frames\n",
    "and other types of objects, others (such as `sd`) will not.\n",
    "\n",
    "Statistics by grouping variable(s)\n",
    "----------------------------------\n",
    "\n",
    "The `summarize` function can be used to calculate statistics by grouping\n",
    "variable. Here is how it works."
   ]
  },
  {
   "cell_type": "code",
   "execution_count": null,
   "metadata": {},
   "outputs": [],
   "source": [
    "summarize(group_by(example.df, id), mean(var1), sd(var1))"
   ]
  },
  {
   "cell_type": "markdown",
   "metadata": {},
   "source": [
    "You can group by multiple variables:"
   ]
  },
  {
   "cell_type": "code",
   "execution_count": null,
   "metadata": {},
   "outputs": [],
   "source": [
    "summarize(group_by(example.df, id, var3), mean(var1), sd(var1))"
   ]
  },
  {
   "cell_type": "markdown",
   "metadata": {},
   "source": [
    "\\#+END~SRC~\n",
    "\n",
    "Save R output to a file\n",
    "-----------------------\n",
    "\n",
    "Earlier we learned how to write a data set to a file. But what if we\n",
    "want to write something that isn't in a nice rectangular format, like\n",
    "the output of `summary`? For that we can use the `sink()` function:"
   ]
  },
  {
   "cell_type": "code",
   "execution_count": null,
   "metadata": {
    "attributes": {
     "classes": [],
     "id": "sinkExample"
    }
   },
   "outputs": [],
   "source": [
    "sink(file=\"output.txt\", split=TRUE) # start logging\n",
    "print(\"This is the summary of example.df \\n\")\n",
    "print(summary(example.df))\n",
    "sink() ## sink with no arguments turns logging off"
   ]
  },
  {
   "cell_type": "markdown",
   "metadata": {},
   "source": [
    "Exercise 4\n",
    "----------\n",
    "\n",
    "1.  Calculate the total number of children born.\n",
    "2.  Filter the data to extract only Massachusetts (Location \"MA\"), and\n",
    "    calculate the total number of children born in Massachusetts.\n",
    "3.  Group and summarize the data to calculate the number of children\n",
    "    born each year.\n",
    "4.  Calculate the average number of characters in baby names (using the\n",
    "    \"Name.length\" column).\n",
    "5.  Group and summarize to calculate the average number of characters in\n",
    "    baby names for each location.\n",
    "\n",
    "Exercise 4 solution<span class=\"tag\" data-tag-name=\"prototype\"></span>\n",
    "----------------------------------------------------------------------"
   ]
  },
  {
   "cell_type": "code",
   "execution_count": null,
   "metadata": {},
   "outputs": [],
   "source": [
    "sum(baby.names$Count)\n",
    "\n",
    "sum(filter(baby.names, Location == \"MA\")$Count)\n",
    "\n",
    "summarize(group_by(baby.names, \"Year\"), sum(Count))\n",
    "\n",
    "mean(baby.names$Name.length)\n",
    "\n",
    "summarize(group_by(baby.names, Location), mean(Name.length))"
   ]
  },
  {
   "cell_type": "markdown",
   "metadata": {},
   "source": [
    "Basic graphics: Frequency bars\n",
    "------------------------------\n",
    "\n",
    "Thanks to classes and methods, you can `plot()` many kinds of objects:"
   ]
  },
  {
   "cell_type": "code",
   "execution_count": null,
   "metadata": {
    "attributes": {
     "classes": [],
     "id": "plotExample"
    }
   },
   "outputs": [],
   "source": [
    "plot(example.df$var4)"
   ]
  },
  {
   "cell_type": "markdown",
   "metadata": {},
   "source": [
    "![](images/examplePlot1.png)\n",
    "\n",
    "Basic graphics: Boxplots by group\n",
    "---------------------------------\n",
    "\n",
    "Thanks to classes and methods, you can `plot()` many kinds of objects:"
   ]
  },
  {
   "cell_type": "code",
   "execution_count": null,
   "metadata": {
    "attributes": {
     "classes": [],
     "id": "plotExample2"
    }
   },
   "outputs": [],
   "source": [
    "plot(select(example.df, id, var1))"
   ]
  },
  {
   "cell_type": "markdown",
   "metadata": {},
   "source": [
    "![](images/examplePlot2.png)\n",
    "\n",
    "Basic graphics: Mosaic chart\n",
    "----------------------------\n",
    "\n",
    "Thanks to classes and methods, you can `plot()` many kinds of objects:"
   ]
  },
  {
   "cell_type": "code",
   "execution_count": null,
   "metadata": {
    "attributes": {
     "classes": [],
     "id": "plotExample3"
    }
   },
   "outputs": [],
   "source": [
    "plot(select(example.df, id, var4))"
   ]
  },
  {
   "cell_type": "markdown",
   "metadata": {},
   "source": [
    "![](images/examplePlot3.png)\n",
    "\n",
    "Basic graphics: scatter plot\n",
    "----------------------------"
   ]
  },
  {
   "cell_type": "code",
   "execution_count": null,
   "metadata": {
    "attributes": {
     "classes": [],
     "id": "plotExample4"
    }
   },
   "outputs": [],
   "source": [
    "plot(select(example.df, var1, var2))"
   ]
  },
  {
   "cell_type": "markdown",
   "metadata": {},
   "source": [
    "![](images/examplePlot4.png)\n",
    "\n",
    "Exercise 5 TBD\n",
    "--------------\n",
    "\n",
    "Wrap-up\n",
    "=======\n",
    "\n",
    "Help us make this workshop better!\n",
    "----------------------------------\n",
    "\n",
    "-   Please take a moment to fill out a very short feedback form\n",
    "-   These workshops exist for you – tell us what you need!\n",
    "-   <http://tinyurl.com/R-intro-feedback>\n",
    "\n",
    "Additional resources\n",
    "--------------------\n",
    "\n",
    "-   IQSS workshops:\n",
    "    <http://projects.iq.harvard.edu/rtc/filter_by/workshops>\n",
    "-   IQSS statistical consulting: <http://dss.iq.harvard.edu>\n",
    "-   Software (all free!):\n",
    "    -   R and R package download: <http://cran.r-project.org>\n",
    "    -   Rstudio download: <http://rstudio.org>\n",
    "    -   ESS (emacs R package): <http://ess.r-project.org/>\n",
    "-   Online tutorials\n",
    "    -   <http://www.codeschool.com/courses/try-r>\n",
    "    -   <http://www.datacamp.org>\n",
    "    -   <http://swirlstats.com/>\n",
    "    -   <http://r4ds.had.co.nz/>\n",
    "-   Getting help:\n",
    "    -   Documentation and tutorials:\n",
    "        <http://cran.r-project.org/other-docs.html>\n",
    "    -   Recommended R packages by topic:\n",
    "        <http://cran.r-project.org/web/views/>\n",
    "    -   Mailing list: <https://stat.ethz.ch/mailman/listinfo/r-help>\n",
    "    -   StackOverflow: <http://stackoverflow.com/questions/tagged/r>"
   ]
  }
 ],
 "metadata": {
        "kernelspec": {
            "display_name": "R",
            "language": "R",
            "name": "ir"
        },
        "language_info": {
            "codemirror_mode": "r",
            "file_extension": ".r",
            "mimetype": "text/x-r-source",
            "name": "R",
            "pygments_lexer": "r",
            "version": "3.2.3"
        }
    },
 "nbformat": 4,
 "nbformat_minor": 1
}
